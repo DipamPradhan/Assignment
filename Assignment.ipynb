{
 "cells": [
  {
   "cell_type": "code",
   "execution_count": 3,
   "id": "9de3e85c-16b2-4d75-a962-bcdb894f937b",
   "metadata": {},
   "outputs": [],
   "source": [
    "fav_movies = ['Arcane','One Piece Red','Suits','Hami Tin Bhai']"
   ]
  },
  {
   "cell_type": "code",
   "execution_count": 5,
   "id": "d36068d2-3aab-473d-b7da-301988f1c7ca",
   "metadata": {},
   "outputs": [
    {
     "data": {
      "text/plain": [
       "['Arcane', 'One Piece Red', 'Suits', 'Hami Tin Bhai']"
      ]
     },
     "execution_count": 5,
     "metadata": {},
     "output_type": "execute_result"
    }
   ],
   "source": [
    "fav_movies"
   ]
  },
  {
   "cell_type": "code",
   "execution_count": 7,
   "id": "3ffe24dd-713d-4800-b4a0-e9a3421b2824",
   "metadata": {},
   "outputs": [],
   "source": [
    "fav_movies.append('Don')"
   ]
  },
  {
   "cell_type": "code",
   "execution_count": 9,
   "id": "cebe0a62-378a-44ac-8949-28ceccd24d3a",
   "metadata": {},
   "outputs": [
    {
     "data": {
      "text/plain": [
       "['Arcane', 'One Piece Red', 'Suits', 'Hami Tin Bhai', 'Don']"
      ]
     },
     "execution_count": 9,
     "metadata": {},
     "output_type": "execute_result"
    }
   ],
   "source": [
    "fav_movies"
   ]
  },
  {
   "cell_type": "code",
   "execution_count": 11,
   "id": "18a32766-220f-48c9-83c4-71c48ef1d766",
   "metadata": {},
   "outputs": [],
   "source": [
    "numbers = [1,2,3,4,5,6,7,8,9,10]"
   ]
  },
  {
   "cell_type": "code",
   "execution_count": 13,
   "id": "49c765d1-c23a-43ad-8f55-239edc502858",
   "metadata": {},
   "outputs": [
    {
     "data": {
      "text/plain": [
       "[1, 2, 3, 4, 5, 6, 7, 8, 9, 10]"
      ]
     },
     "execution_count": 13,
     "metadata": {},
     "output_type": "execute_result"
    }
   ],
   "source": [
    "numbers"
   ]
  },
  {
   "cell_type": "code",
   "execution_count": 17,
   "id": "5965a3f0-bdcd-4107-9ba4-d6e620f9d9be",
   "metadata": {},
   "outputs": [
    {
     "data": {
      "text/plain": [
       "55"
      ]
     },
     "execution_count": 17,
     "metadata": {},
     "output_type": "execute_result"
    }
   ],
   "source": [
    "sum(numbers)"
   ]
  },
  {
   "cell_type": "code",
   "execution_count": 19,
   "id": "f254f365-600f-451f-a40f-d31691f94b1f",
   "metadata": {},
   "outputs": [],
   "source": [
    "mixed_list = [1,'Mapid',34.69]"
   ]
  },
  {
   "cell_type": "code",
   "execution_count": 21,
   "id": "3524b7f6-f7c0-43a0-b045-00e5ed704bb3",
   "metadata": {},
   "outputs": [
    {
     "data": {
      "text/plain": [
       "[1, 'Mapid', 34.69]"
      ]
     },
     "execution_count": 21,
     "metadata": {},
     "output_type": "execute_result"
    }
   ],
   "source": [
    "mixed_list"
   ]
  },
  {
   "cell_type": "code",
   "execution_count": 23,
   "id": "4951d31b-b803-4413-b68f-db80a0591e34",
   "metadata": {},
   "outputs": [
    {
     "data": {
      "text/plain": [
       "1"
      ]
     },
     "execution_count": 23,
     "metadata": {},
     "output_type": "execute_result"
    }
   ],
   "source": [
    "mixed_list.pop(0)"
   ]
  },
  {
   "cell_type": "code",
   "execution_count": 25,
   "id": "575f4ba5-33bb-4168-92af-9a06bb8b55be",
   "metadata": {},
   "outputs": [
    {
     "data": {
      "text/plain": [
       "['Mapid', 34.69]"
      ]
     },
     "execution_count": 25,
     "metadata": {},
     "output_type": "execute_result"
    }
   ],
   "source": [
    "mixed_list"
   ]
  },
  {
   "cell_type": "code",
   "execution_count": 27,
   "id": "1a029f01-f653-4463-b02c-72e58e67065c",
   "metadata": {},
   "outputs": [],
   "source": [
    "days = ('Sunday','Monday','Tuesday','Wednesday','Thursday','Friday','Saturday')"
   ]
  },
  {
   "cell_type": "code",
   "execution_count": 29,
   "id": "b2ee9ed3-a049-46e6-8e74-a837a7a9ec47",
   "metadata": {},
   "outputs": [
    {
     "data": {
      "text/plain": [
       "('Sunday', 'Monday', 'Tuesday', 'Wednesday', 'Thursday', 'Friday', 'Saturday')"
      ]
     },
     "execution_count": 29,
     "metadata": {},
     "output_type": "execute_result"
    }
   ],
   "source": [
    "days"
   ]
  },
  {
   "cell_type": "code",
   "execution_count": 33,
   "id": "0c10af81-1bcc-4f07-afb8-f08a177a9836",
   "metadata": {},
   "outputs": [
    {
     "data": {
      "text/plain": [
       "'Tuesday'"
      ]
     },
     "execution_count": 33,
     "metadata": {},
     "output_type": "execute_result"
    }
   ],
   "source": [
    "days[2]"
   ]
  },
  {
   "cell_type": "code",
   "execution_count": 35,
   "id": "f601cac0-9b38-4f4f-8117-e2c61ef96d16",
   "metadata": {},
   "outputs": [],
   "source": [
    "color = ('Red','Gold','Blue','Black','White')"
   ]
  },
  {
   "cell_type": "code",
   "execution_count": 37,
   "id": "92f65535-52dd-4733-88a9-ba76e557573d",
   "metadata": {},
   "outputs": [
    {
     "data": {
      "text/plain": [
       "('Red', 'Gold', 'Blue', 'Black', 'White')"
      ]
     },
     "execution_count": 37,
     "metadata": {},
     "output_type": "execute_result"
    }
   ],
   "source": [
    "color"
   ]
  },
  {
   "cell_type": "code",
   "execution_count": 43,
   "id": "765ad90f-4871-4822-a433-cfc516b8e90f",
   "metadata": {},
   "outputs": [
    {
     "name": "stdout",
     "output_type": "stream",
     "text": [
      "Yes\n",
      "('Red', 'Gold', 'Blue', 'Black', 'White')\n"
     ]
    }
   ],
   "source": [
    "if 'Red' in color:\n",
    "    print('Yes')\n",
    "    print(color)\n",
    "else:\n",
    "    print('No')\n",
    "    print(color)"
   ]
  },
  {
   "cell_type": "code",
   "execution_count": 45,
   "id": "d30c5e1e-3b2e-4dd8-99a0-1ea52478c291",
   "metadata": {},
   "outputs": [],
   "source": [
    "book = {'title':'The Subtle Art',\n",
    "        'author':'Mapidx',\n",
    "        'year':2014}"
   ]
  },
  {
   "cell_type": "code",
   "execution_count": 47,
   "id": "5d0c2641-dcd6-4079-a53b-123a3df27528",
   "metadata": {},
   "outputs": [
    {
     "data": {
      "text/plain": [
       "{'title': 'The Subtle Art', 'author': 'Mapidx', 'year': 2014}"
      ]
     },
     "execution_count": 47,
     "metadata": {},
     "output_type": "execute_result"
    }
   ],
   "source": [
    "book"
   ]
  },
  {
   "cell_type": "code",
   "execution_count": 53,
   "id": "957da74a-4800-4b2d-b53b-32e849ec0206",
   "metadata": {},
   "outputs": [],
   "source": [
    "book['year'] = 2019"
   ]
  },
  {
   "cell_type": "code",
   "execution_count": 55,
   "id": "c8003ab6-1edb-4f3a-93f7-84624117f6f5",
   "metadata": {},
   "outputs": [
    {
     "data": {
      "text/plain": [
       "{'title': 'The Subtle Art', 'author': 'Mapidx', 'year': 2019}"
      ]
     },
     "execution_count": 55,
     "metadata": {},
     "output_type": "execute_result"
    }
   ],
   "source": [
    "book"
   ]
  },
  {
   "cell_type": "code",
   "execution_count": 57,
   "id": "e4a1ac1b-b18d-430b-92a7-0132237af067",
   "metadata": {},
   "outputs": [],
   "source": [
    "fruits = {'apple':'red',\n",
    "          'banana':'yellow',\n",
    "          'kiwi':'green'}"
   ]
  },
  {
   "cell_type": "code",
   "execution_count": 59,
   "id": "8eafded5-cc90-4aca-a6d4-a87bfe325db1",
   "metadata": {},
   "outputs": [
    {
     "data": {
      "text/plain": [
       "{'apple': 'red', 'banana': 'yellow', 'kiwi': 'green'}"
      ]
     },
     "execution_count": 59,
     "metadata": {},
     "output_type": "execute_result"
    }
   ],
   "source": [
    "fruits"
   ]
  },
  {
   "cell_type": "code",
   "execution_count": 61,
   "id": "e6df5a50-0dad-4980-81c3-a8a6ee074d92",
   "metadata": {},
   "outputs": [],
   "source": [
    "fruits['orange'] = 'orange'"
   ]
  },
  {
   "cell_type": "code",
   "execution_count": 63,
   "id": "eb7693d6-39fc-439b-b8bf-84b3e4a120c9",
   "metadata": {},
   "outputs": [
    {
     "data": {
      "text/plain": [
       "{'apple': 'red', 'banana': 'yellow', 'kiwi': 'green', 'orange': 'orange'}"
      ]
     },
     "execution_count": 63,
     "metadata": {},
     "output_type": "execute_result"
    }
   ],
   "source": [
    "fruits"
   ]
  },
  {
   "cell_type": "code",
   "execution_count": 65,
   "id": "2ea65762-b24c-4635-b2e7-9735242be003",
   "metadata": {},
   "outputs": [],
   "source": [
    "population = {'Kathmandu':200000,\n",
    "              'Pokhara':150000,\n",
    "              'Dharan':91000}"
   ]
  },
  {
   "cell_type": "code",
   "execution_count": 67,
   "id": "d6a2dcea-d340-408a-8408-158daf26199c",
   "metadata": {},
   "outputs": [
    {
     "data": {
      "text/plain": [
       "{'Kathmandu': 200000, 'Pokhara': 150000, 'Dharan': 91000}"
      ]
     },
     "execution_count": 67,
     "metadata": {},
     "output_type": "execute_result"
    }
   ],
   "source": [
    "population\n"
   ]
  },
  {
   "cell_type": "code",
   "execution_count": 69,
   "id": "5d61215a-2369-44cf-b1b7-2c0d04fd08b1",
   "metadata": {},
   "outputs": [],
   "source": [
    "del population['Pokhara']"
   ]
  },
  {
   "cell_type": "code",
   "execution_count": 71,
   "id": "20e7c37f-5bb2-4995-ad3a-1dee538a351c",
   "metadata": {},
   "outputs": [
    {
     "data": {
      "text/plain": [
       "{'Kathmandu': 200000, 'Dharan': 91000}"
      ]
     },
     "execution_count": 71,
     "metadata": {},
     "output_type": "execute_result"
    }
   ],
   "source": [
    "population"
   ]
  },
  {
   "cell_type": "code",
   "execution_count": null,
   "id": "a52d969b-a871-40ce-987e-690f63e0f9f3",
   "metadata": {},
   "outputs": [],
   "source": []
  }
 ],
 "metadata": {
  "kernelspec": {
   "display_name": "Python 3 (ipykernel)",
   "language": "python",
   "name": "python3"
  },
  "language_info": {
   "codemirror_mode": {
    "name": "ipython",
    "version": 3
   },
   "file_extension": ".py",
   "mimetype": "text/x-python",
   "name": "python",
   "nbconvert_exporter": "python",
   "pygments_lexer": "ipython3",
   "version": "3.12.7"
  }
 },
 "nbformat": 4,
 "nbformat_minor": 5
}
