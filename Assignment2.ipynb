{
 "cells": [
  {
   "cell_type": "code",
   "execution_count": 170,
   "id": "4d2ddb63-1570-48e6-910b-279895665066",
   "metadata": {},
   "outputs": [],
   "source": [
    "import numpy as np"
   ]
  },
  {
   "cell_type": "code",
   "execution_count": null,
   "id": "1f22be42-8d3c-4b16-828a-2c7975aa825f",
   "metadata": {},
   "outputs": [],
   "source": [
    "#array creation"
   ]
  },
  {
   "cell_type": "code",
   "execution_count": 3,
   "id": "ad9fd15e-0248-48a0-a3eb-88cb5774f816",
   "metadata": {},
   "outputs": [],
   "source": [
    "#1-dimensional array of integers from 1 to 10.\n",
    "array1 = np.array([value for value in range(1,11)])"
   ]
  },
  {
   "cell_type": "code",
   "execution_count": 5,
   "id": "c7eea914-0bf9-4dd1-9dc5-1ee2c7dd7a73",
   "metadata": {},
   "outputs": [
    {
     "data": {
      "text/plain": [
       "array([ 1,  2,  3,  4,  5,  6,  7,  8,  9, 10])"
      ]
     },
     "execution_count": 5,
     "metadata": {},
     "output_type": "execute_result"
    }
   ],
   "source": [
    "array1"
   ]
  },
  {
   "cell_type": "code",
   "execution_count": 23,
   "id": "c08b8ca9-0544-4778-b99e-963138281085",
   "metadata": {},
   "outputs": [],
   "source": [
    "#2-dimensional array with random float values of shape (3, 4).\n",
    "array2 = np.random.rand(3,4)"
   ]
  },
  {
   "cell_type": "code",
   "execution_count": 25,
   "id": "0fb31ab0-8d71-4f42-abf1-1b4184510a5b",
   "metadata": {},
   "outputs": [
    {
     "data": {
      "text/plain": [
       "array([[0.45825473, 0.77736405, 0.50458939, 0.88353126],\n",
       "       [0.56985124, 0.25175567, 0.26151885, 0.54007338],\n",
       "       [0.91854647, 0.16949342, 0.0731481 , 0.89352854]])"
      ]
     },
     "execution_count": 25,
     "metadata": {},
     "output_type": "execute_result"
    }
   ],
   "source": [
    "array2"
   ]
  },
  {
   "cell_type": "code",
   "execution_count": 33,
   "id": "7327388f-0f5c-4608-a076-7dec794f53a4",
   "metadata": {},
   "outputs": [],
   "source": [
    "#3-dimensional array of zeros with shape (2, 3, 4).\n",
    "array3 = np.zeros((2,3,4))"
   ]
  },
  {
   "cell_type": "code",
   "execution_count": 35,
   "id": "313cf9c9-5859-4e7d-b1d1-aad8352de88e",
   "metadata": {},
   "outputs": [
    {
     "data": {
      "text/plain": [
       "array([[[0., 0., 0., 0.],\n",
       "        [0., 0., 0., 0.],\n",
       "        [0., 0., 0., 0.]],\n",
       "\n",
       "       [[0., 0., 0., 0.],\n",
       "        [0., 0., 0., 0.],\n",
       "        [0., 0., 0., 0.]]])"
      ]
     },
     "execution_count": 35,
     "metadata": {},
     "output_type": "execute_result"
    }
   ],
   "source": [
    "array3"
   ]
  },
  {
   "cell_type": "code",
   "execution_count": 37,
   "id": "efbe49f9-389e-42c0-afb6-34d09c325817",
   "metadata": {},
   "outputs": [],
   "source": [
    "#array operations"
   ]
  },
  {
   "cell_type": "code",
   "execution_count": 39,
   "id": "d46e65c0-6eba-419b-84ac-c79221a68cb0",
   "metadata": {},
   "outputs": [],
   "source": [
    "#Given two 1-dimensional arrays, perform element-wise addition, subtraction, multiplication, and division.\n",
    "x = np.array([1,2,3,4])\n",
    "y = np.array([6,7,8,9])"
   ]
  },
  {
   "cell_type": "code",
   "execution_count": 53,
   "id": "5dbfd672-00b1-421b-b75a-47bab2d9c9d1",
   "metadata": {},
   "outputs": [],
   "source": [
    "#operations\n",
    "result_add = x+y\n",
    "result_sub = x-y\n",
    "result_mul = x*y\n",
    "result_div = y/x"
   ]
  },
  {
   "cell_type": "code",
   "execution_count": 55,
   "id": "83bca375-19bc-41f0-880c-187c30afd214",
   "metadata": {},
   "outputs": [
    {
     "data": {
      "text/plain": [
       "array([ 7,  9, 11, 13])"
      ]
     },
     "execution_count": 55,
     "metadata": {},
     "output_type": "execute_result"
    }
   ],
   "source": [
    "result_add"
   ]
  },
  {
   "cell_type": "code",
   "execution_count": 57,
   "id": "208fdd4b-86e0-4c27-b6f3-f30e0b007896",
   "metadata": {},
   "outputs": [
    {
     "data": {
      "text/plain": [
       "array([-5, -5, -5, -5])"
      ]
     },
     "execution_count": 57,
     "metadata": {},
     "output_type": "execute_result"
    }
   ],
   "source": [
    "result_sub"
   ]
  },
  {
   "cell_type": "code",
   "execution_count": 59,
   "id": "9bb04b86-89ac-407a-841b-805ecd36d79c",
   "metadata": {},
   "outputs": [
    {
     "data": {
      "text/plain": [
       "array([ 6, 14, 24, 36])"
      ]
     },
     "execution_count": 59,
     "metadata": {},
     "output_type": "execute_result"
    }
   ],
   "source": [
    "result_mul"
   ]
  },
  {
   "cell_type": "code",
   "execution_count": 61,
   "id": "e4b9e6a4-c775-4ee1-bd22-746301c57f05",
   "metadata": {},
   "outputs": [
    {
     "data": {
      "text/plain": [
       "array([6.        , 3.5       , 2.66666667, 2.25      ])"
      ]
     },
     "execution_count": 61,
     "metadata": {},
     "output_type": "execute_result"
    }
   ],
   "source": [
    "result_div"
   ]
  },
  {
   "cell_type": "code",
   "execution_count": 64,
   "id": "3e3543da-6561-4ae1-bb08-82d4857b42aa",
   "metadata": {},
   "outputs": [],
   "source": [
    "#Calculate the mean, median, and standard deviation of a given 1-dimensional array."
   ]
  },
  {
   "cell_type": "code",
   "execution_count": 162,
   "id": "5fccd3f3-e128-4a1e-9bc2-24db2c6b2be4",
   "metadata": {},
   "outputs": [],
   "source": [
    "result_mean = np.mean(x)\n",
    "result_median = np.median(x)\n",
    "result_stddev = np.std(x)"
   ]
  },
  {
   "cell_type": "code",
   "execution_count": 164,
   "id": "c79bdb3a-39ac-402a-ad18-82513912bccf",
   "metadata": {},
   "outputs": [
    {
     "data": {
      "text/plain": [
       "2.5"
      ]
     },
     "execution_count": 164,
     "metadata": {},
     "output_type": "execute_result"
    }
   ],
   "source": [
    "result_mean"
   ]
  },
  {
   "cell_type": "code",
   "execution_count": 166,
   "id": "4b2b107f-4774-4347-800f-fef5b9c33304",
   "metadata": {},
   "outputs": [
    {
     "data": {
      "text/plain": [
       "2.5"
      ]
     },
     "execution_count": 166,
     "metadata": {},
     "output_type": "execute_result"
    }
   ],
   "source": [
    "result_median"
   ]
  },
  {
   "cell_type": "code",
   "execution_count": 168,
   "id": "21c491b3-558b-470d-8ed7-7ade3da539c5",
   "metadata": {},
   "outputs": [
    {
     "data": {
      "text/plain": [
       "1.118033988749895"
      ]
     },
     "execution_count": 168,
     "metadata": {},
     "output_type": "execute_result"
    }
   ],
   "source": [
    "result_stddev"
   ]
  },
  {
   "cell_type": "code",
   "execution_count": 158,
   "id": "a45ddcc9-ced4-4c04-8295-a3665737253d",
   "metadata": {},
   "outputs": [],
   "source": [
    "#Reshape a 1-dimensional array into a 2-dimensional array of shape (3,4).\n",
    "a = np.array([value for value in range(1,13)])\n",
    "reshaped_array = a.reshape(3,4)"
   ]
  },
  {
   "cell_type": "code",
   "execution_count": 160,
   "id": "9dc2bbb6-03e9-4d29-bdd7-8df7d903e8b5",
   "metadata": {},
   "outputs": [
    {
     "data": {
      "text/plain": [
       "array([[ 1,  2,  3,  4],\n",
       "       [ 5,  6,  7,  8],\n",
       "       [ 9, 10, 11, 12]])"
      ]
     },
     "execution_count": 160,
     "metadata": {},
     "output_type": "execute_result"
    }
   ],
   "source": [
    "reshaped_array"
   ]
  },
  {
   "cell_type": "code",
   "execution_count": 172,
   "id": "fc2af6f9-ec0a-4420-9ff2-074ef334ac68",
   "metadata": {},
   "outputs": [],
   "source": [
    "#Array Indexing and Slicing"
   ]
  },
  {
   "cell_type": "code",
   "execution_count": 182,
   "id": "c2e038b9-1bb7-4673-bc39-768c36a0061c",
   "metadata": {},
   "outputs": [],
   "source": [
    "#Extract the first row and last column of a 2-dimensional array."
   ]
  },
  {
   "cell_type": "code",
   "execution_count": 184,
   "id": "cd9327a0-35fe-402e-b23b-5f5b65a5aaac",
   "metadata": {},
   "outputs": [
    {
     "data": {
      "text/plain": [
       "array([0.45825473, 0.77736405, 0.50458939, 0.88353126])"
      ]
     },
     "execution_count": 184,
     "metadata": {},
     "output_type": "execute_result"
    }
   ],
   "source": [
    "#first row of 2d array\n",
    "array2[0,:]"
   ]
  },
  {
   "cell_type": "code",
   "execution_count": 188,
   "id": "31a26afd-baa0-43be-b55a-f7ff331291ff",
   "metadata": {},
   "outputs": [
    {
     "data": {
      "text/plain": [
       "array([0.88353126, 0.54007338, 0.89352854])"
      ]
     },
     "execution_count": 188,
     "metadata": {},
     "output_type": "execute_result"
    }
   ],
   "source": [
    "#last row of 2d array\n",
    "array2[:,-1]"
   ]
  },
  {
   "cell_type": "code",
   "execution_count": 190,
   "id": "b1c9173e-da79-438c-88c4-e1b291579c43",
   "metadata": {},
   "outputs": [],
   "source": [
    "#Reverse the order of elements in a 1-dimensional array."
   ]
  },
  {
   "cell_type": "code",
   "execution_count": 214,
   "id": "4aa5ed36-fd5b-4312-aea2-f297f1aac81f",
   "metadata": {},
   "outputs": [],
   "source": [
    "rev = np.flip(array1)"
   ]
  },
  {
   "cell_type": "code",
   "execution_count": 216,
   "id": "b4146711-863c-48be-a0cd-1425d8cc24e7",
   "metadata": {},
   "outputs": [
    {
     "data": {
      "text/plain": [
       "array([10,  9,  8,  7,  6,  5,  4,  3,  2,  1])"
      ]
     },
     "execution_count": 216,
     "metadata": {},
     "output_type": "execute_result"
    }
   ],
   "source": [
    "rev"
   ]
  },
  {
   "cell_type": "code",
   "execution_count": 218,
   "id": "7e6a31f7-b46f-4185-971b-3ce8dfbe7417",
   "metadata": {},
   "outputs": [],
   "source": [
    "#Select elements from a 2-dimensional array that satisfy a specific condition (e.g., values greater than a certain threshold)."
   ]
  },
  {
   "cell_type": "code",
   "execution_count": 220,
   "id": "1edb840c-2265-43b1-8448-05f6813a8841",
   "metadata": {},
   "outputs": [],
   "source": [
    "arrayx = np.array([[1,2,3,4],[2,3,56,13],[41,23,65,12]])"
   ]
  },
  {
   "cell_type": "code",
   "execution_count": 224,
   "id": "6b22b241-f0e7-4e33-939a-4e2845c283fa",
   "metadata": {},
   "outputs": [
    {
     "data": {
      "text/plain": [
       "array([ 2,  4,  2, 56, 12])"
      ]
     },
     "execution_count": 224,
     "metadata": {},
     "output_type": "execute_result"
    }
   ],
   "source": [
    "#even elements\n",
    "res = arrayx[arrayx%2==0]\n",
    "res"
   ]
  },
  {
   "cell_type": "code",
   "execution_count": 228,
   "id": "960109e0-8e63-49f2-b4a6-947c90f94f82",
   "metadata": {},
   "outputs": [
    {
     "data": {
      "text/plain": [
       "array([56, 13, 41, 23, 65, 12])"
      ]
     },
     "execution_count": 228,
     "metadata": {},
     "output_type": "execute_result"
    }
   ],
   "source": [
    "#value greater than 10\n",
    "res1 = arrayx[arrayx>10]\n",
    "res1"
   ]
  },
  {
   "cell_type": "code",
   "execution_count": 230,
   "id": "da0942c9-658c-4ee9-acdb-693c947d1637",
   "metadata": {},
   "outputs": [],
   "source": [
    "#Array Broadcasting"
   ]
  },
  {
   "cell_type": "code",
   "execution_count": 234,
   "id": "fe8abb59-0938-41df-a613-c208744a2f9d",
   "metadata": {},
   "outputs": [
    {
     "data": {
      "text/plain": [
       "array([[ 3,  4,  5,  6],\n",
       "       [ 4,  5, 58, 15],\n",
       "       [43, 25, 67, 14]])"
      ]
     },
     "execution_count": 234,
     "metadata": {},
     "output_type": "execute_result"
    }
   ],
   "source": [
    "#Add a scalar value to each element of a 2-dimensional arrayr\n",
    "res2 = arrayx+2\n",
    "res2"
   ]
  },
  {
   "cell_type": "code",
   "execution_count": 236,
   "id": "fedec291-d9d9-419e-bacb-4b40f7a00d22",
   "metadata": {},
   "outputs": [
    {
     "data": {
      "text/plain": [
       "array([[ 2,  4,  6],\n",
       "       [ 8, 10, 12]])"
      ]
     },
     "execution_count": 236,
     "metadata": {},
     "output_type": "execute_result"
    }
   ],
   "source": [
    "#Multiply a 1-dimensional array with a 2-dimensional array, leveraging NumPy's broadcasting rules.\n",
    "arrayf = np.array([[1,2,3],[4,5,6]])\n",
    "arrayg = np.array([2,2,2])\n",
    "resfg = arrayf*arrayg\n",
    "resfg"
   ]
  },
  {
   "cell_type": "code",
   "execution_count": 238,
   "id": "ede0907c-5779-4bda-b710-5f68f6d07ec8",
   "metadata": {},
   "outputs": [],
   "source": [
    "#Linear Algebra"
   ]
  },
  {
   "cell_type": "code",
   "execution_count": 240,
   "id": "c1fe17ad-8156-4c1b-90f1-3c8e5a194f8f",
   "metadata": {},
   "outputs": [
    {
     "data": {
      "text/plain": [
       "32"
      ]
     },
     "execution_count": 240,
     "metadata": {},
     "output_type": "execute_result"
    }
   ],
   "source": [
    "#Calculate the dot product of two 1-dimensional arrays.\n",
    "arrayv = np.array([1,2,3])\n",
    "arrayh = np.array([4,5,6])\n",
    "resDot =  np.dot(arrayv,arrayh)\n",
    "resDot"
   ]
  },
  {
   "cell_type": "code",
   "execution_count": 242,
   "id": "c8d7d07e-e876-4505-8ba1-2fba397f71f0",
   "metadata": {},
   "outputs": [
    {
     "data": {
      "text/plain": [
       "array([[10, 31],\n",
       "       [25, 73]])"
      ]
     },
     "execution_count": 242,
     "metadata": {},
     "output_type": "execute_result"
    }
   ],
   "source": [
    "#Compute the matrix multiplication of two 2-dimensional arrays.\n",
    "e = np.array([[1,2,3],[4,5,6]])\n",
    "y = np.array([[2,4],[1,3],[2,7]])\n",
    "resMul = np.matmul(e,y)\n",
    "resMul"
   ]
  },
  {
   "cell_type": "code",
   "execution_count": 246,
   "id": "732df4ee-1082-400d-8029-5e3df5967c4d",
   "metadata": {},
   "outputs": [
    {
     "data": {
      "text/plain": [
       "array([[ 3.15251974e+15, -6.30503948e+15,  3.15251974e+15],\n",
       "       [-6.30503948e+15,  1.26100790e+16, -6.30503948e+15],\n",
       "       [ 3.15251974e+15, -6.30503948e+15,  3.15251974e+15]])"
      ]
     },
     "execution_count": 246,
     "metadata": {},
     "output_type": "execute_result"
    }
   ],
   "source": [
    "#Find the inverse and determinant of a square matrix\n",
    "sq = np.array([[1,2,3],[4,5,6],[7,8,9]])\n",
    "resInv = np.linalg.inv(sq)\n",
    "resInv"
   ]
  },
  {
   "cell_type": "code",
   "execution_count": 250,
   "id": "fbee6139-44f2-4187-bbe0-005449297655",
   "metadata": {},
   "outputs": [
    {
     "data": {
      "text/plain": [
       "-9.51619735392994e-16"
      ]
     },
     "execution_count": 250,
     "metadata": {},
     "output_type": "execute_result"
    }
   ],
   "source": [
    "resDet = np.linalg.det(sq)\n",
    "resDet"
   ]
  },
  {
   "cell_type": "code",
   "execution_count": null,
   "id": "dd01693a-5139-426d-b5af-693f3e2ab65a",
   "metadata": {},
   "outputs": [],
   "source": []
  }
 ],
 "metadata": {
  "kernelspec": {
   "display_name": "Python 3 (ipykernel)",
   "language": "python",
   "name": "python3"
  },
  "language_info": {
   "codemirror_mode": {
    "name": "ipython",
    "version": 3
   },
   "file_extension": ".py",
   "mimetype": "text/x-python",
   "name": "python",
   "nbconvert_exporter": "python",
   "pygments_lexer": "ipython3",
   "version": "3.12.7"
  }
 },
 "nbformat": 4,
 "nbformat_minor": 5
}
